{
 "cells": [
  {
   "metadata": {},
   "cell_type": "markdown",
   "source": [
    "zaimplementuj L-sysstem reprezentujacy wzrost drzewa fraktalnego binarnego dla parametrow:\n",
    "\n",
    "\n",
    "symbole X F + - [ ]\n",
    "\n",
    "poczatkowe zasady: w = X\n",
    "\n",
    "P1: X-> F+[[X]-X]-F[-FX]+X\n",
    "\n",
    "p2: F -> FF\n",
    "\n",
    "+ i - rotacja o 25stopni\n",
    "\n",
    "[ -> push\n",
    "\n",
    "] -> pop\n",
    "\n",
    "F prosto i linia\n",
    "X auxiliary symbol\n",
    "\n",
    "\n",
    "wartosci poczatkowe:\n",
    "x=0, y=0\n",
    "Alfa = 25 stopni, w0=X, generuj wn gdzie n to liczba iteracji"
   ],
   "id": "c18141cee8566431"
  },
  {
   "metadata": {},
   "cell_type": "markdown",
   "source": "importy i parametry stale",
   "id": "98c53e36b6676956"
  },
  {
   "metadata": {
    "ExecuteTime": {
     "end_time": "2025-05-13T22:03:39.526015Z",
     "start_time": "2025-05-13T22:03:39.522467Z"
    }
   },
   "cell_type": "code",
   "source": [
    "import turtle\n",
    "\n",
    "kat = 25\n",
    "znak = \"X\"\n",
    "zasady = {\n",
    "    \"X\":\"F+[[X]-X]-F[-FX]+x\",\n",
    "    \"F\":\"FF\"\n",
    "}"
   ],
   "id": "2bb9039197cd3b8",
   "outputs": [],
   "execution_count": 13
  },
  {
   "metadata": {},
   "cell_type": "markdown",
   "source": "generowanie l-systemu",
   "id": "589eedab2ce33b05"
  },
  {
   "metadata": {
    "ExecuteTime": {
     "end_time": "2025-05-13T22:03:39.540039Z",
     "start_time": "2025-05-13T22:03:39.537085Z"
    }
   },
   "cell_type": "code",
   "source": [
    "def generateLSystem(znak,zasady,iteracje):\n",
    "    wynik = znak\n",
    "    for i in range(iteracje):\n",
    "        kolejne = \"\"\n",
    "\n",
    "        for char in wynik:\n",
    "            kolejne += zasady.get(char,char) #dla kazdego znaku aktualizacja zasady\n",
    "\n",
    "        wynik = kolejne\n",
    "\n",
    "    return wynik"
   ],
   "id": "6132e6fb16084e06",
   "outputs": [],
   "execution_count": 14
  },
  {
   "metadata": {},
   "cell_type": "markdown",
   "source": "rysowanie l-systemu",
   "id": "1f5e74c113ec41f0"
  },
  {
   "metadata": {
    "ExecuteTime": {
     "end_time": "2025-05-13T22:03:39.548935Z",
     "start_time": "2025-05-13T22:03:39.544042Z"
    }
   },
   "cell_type": "code",
   "source": [
    "def drawLSystem(instrukcje, kat, dlugosc=10):\n",
    "    stos = []\n",
    "    for komenda in instrukcje:\n",
    "        if komenda == \"F\":\n",
    "            turtle.forward(dlugosc)\n",
    "        if komenda == \"+\":\n",
    "            turtle.right(kat)\n",
    "        if komenda == \"-\":\n",
    "            turtle.left(kat)\n",
    "        if komenda == \"[\":\n",
    "            stos.append((turtle.pos(), turtle.heading())) #zapamietanie do pozniejszej realizacji\n",
    "        if komenda == \"]\":#powrot do przerwanego miescja\n",
    "            pozycja, kierunek = stos.pop()\n",
    "            turtle.penup()\n",
    "            turtle.setpos(pozycja)\n",
    "            turtle.setheading(kierunek)\n",
    "            turtle.pendown()"
   ],
   "id": "62248c2ae5b1001a",
   "outputs": [],
   "execution_count": 15
  },
  {
   "metadata": {},
   "cell_type": "markdown",
   "source": "funkcja uruchamiajaca",
   "id": "8b2af1f115a3fc36"
  },
  {
   "metadata": {
    "ExecuteTime": {
     "end_time": "2025-05-13T22:03:39.559401Z",
     "start_time": "2025-05-13T22:03:39.555426Z"
    }
   },
   "cell_type": "code",
   "source": [
    "def rozpocznijRysowanieDrzewa(iloscIteracji):\n",
    "    turtle.reset()\n",
    "    turtle.speed(0)\n",
    "    turtle.left(90) #patrzy \"w gore\"\n",
    "    turtle.penup()\n",
    "    turtle.setpos(0,-50)\n",
    "    turtle.pendown()\n",
    "    instrukcje = generateLSystem(znak,zasady,iloscIteracji)\n",
    "    drawLSystem(instrukcje,kat,dlugosc=5)\n",
    "    turtle.done()"
   ],
   "id": "8cc903799e685cc4",
   "outputs": [],
   "execution_count": 16
  },
  {
   "metadata": {},
   "cell_type": "markdown",
   "source": "wywolanie funkcji uruchamiajacej",
   "id": "b6915c0422f83965"
  },
  {
   "metadata": {
    "jupyter": {
     "is_executing": true
    },
    "ExecuteTime": {
     "start_time": "2025-05-13T22:03:39.574698Z"
    }
   },
   "cell_type": "code",
   "source": "rozpocznijRysowanieDrzewa(3)",
   "id": "96e0897fe404d9d8",
   "outputs": [],
   "execution_count": null
  }
 ],
 "metadata": {
  "kernelspec": {
   "display_name": "Python 3",
   "language": "python",
   "name": "python3"
  },
  "language_info": {
   "codemirror_mode": {
    "name": "ipython",
    "version": 2
   },
   "file_extension": ".py",
   "mimetype": "text/x-python",
   "name": "python",
   "nbconvert_exporter": "python",
   "pygments_lexer": "ipython2",
   "version": "2.7.6"
  }
 },
 "nbformat": 4,
 "nbformat_minor": 5
}
