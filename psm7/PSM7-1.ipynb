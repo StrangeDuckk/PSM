{
 "cells": [
  {
   "cell_type": "code",
   "metadata": {
    "ExecuteTime": {
     "end_time": "2025-04-22T19:23:46.302128Z",
     "start_time": "2025-04-22T19:23:43.186714Z"
    }
   },
   "source": [
    "import matplotlib.pyplot as plt\n",
    "import numpy as np\n",
    "import scipy.linalg"
   ],
   "outputs": [],
   "execution_count": 1
  },
  {
   "metadata": {},
   "cell_type": "markdown",
   "source": "tworzenie tablicy"
  },
  {
   "metadata": {
    "ExecuteTime": {
     "end_time": "2025-04-22T19:28:59.920056Z",
     "start_time": "2025-04-22T19:28:59.914032Z"
    }
   },
   "cell_type": "code",
   "source": [
    "rozmiar = 40\n",
    "array = np.zeros((rozmiar*rozmiar,rozmiar*rozmiar))\n",
    "arrayWynik = np.zeros(rozmiar*rozmiar)\n",
    "tempGora = -100\n",
    "tempLewo = 200\n",
    "tempPrawo = 100\n",
    "tempDol = -50"
   ],
   "outputs": [],
   "execution_count": 2
  },
  {
   "cell_type": "code",
   "metadata": {},
   "source": [
    "ar = [ [0,-100,-100, 0], [200, 58.2815735 ,  32.19461698, 100], [200, 100.93167702,  70.49689441,100], [200, 74.94824017,  48.86128364,100], [0,-50,-50,0] ]\n",
    "plt.imshow(ar, cmap='hot')"
   ],
   "outputs": [],
   "execution_count": null
  },
  {
   "metadata": {},
   "cell_type": "markdown",
   "source": "funkcja wyliczanie od gory"
  },
  {
   "metadata": {
    "ExecuteTime": {
     "end_time": "2025-04-22T19:40:06.365672Z",
     "start_time": "2025-04-22T19:40:06.361352Z"
    }
   },
   "cell_type": "code",
   "source": [
    "def wyliczGora(array,arrayWynik,i,j,index):\n",
    "    #sprawdzenie czy i jest na gornej granicy\n",
    "    if  i == rozmiar -1:\n",
    "        arrayWynik[index] += tempGora #dodanie gornej wartosci do odpowiedniego elementu vektora\n",
    "    else:\n",
    "        array[index,(i+1)*rozmiar+j] = 1 # ustawienie na 1"
   ],
   "outputs": [],
   "execution_count": 3
  },
  {
   "metadata": {},
   "cell_type": "markdown",
   "source": "funkcja wyliczanie od dolu"
  },
  {
   "metadata": {},
   "cell_type": "code",
   "outputs": [],
   "execution_count": null,
   "source": [
    "def wyliczDol(array, arrayWynik, i, j, index):\n",
    "    # sprawdzenie czy i jest na dolnej granicy\n",
    "    if i == 0:\n",
    "        arrayWynik[index] += tempDol #dodanie wartosci do odpowiedniego elementu vektora\n",
    "    else:\n",
    "        array[index, (i - 1) * rozmiar + j] = 1 # ustawienie na 1"
   ]
  },
  {
   "metadata": {},
   "cell_type": "markdown",
   "source": "funkcja wyliczenie od lewej"
  },
  {
   "metadata": {},
   "cell_type": "code",
   "outputs": [],
   "execution_count": null,
   "source": [
    "def wyliczLewo(array, arrayWynik, i, j, index):\n",
    "    #sprawdzenie czy j jest na lewej granicy\n",
    "    if j == rozmiar -1:\n",
    "        arrayWynik[index] += tempLewo #dodanie wartosci do odpowiedniego elementu vektora\n",
    "    else:\n",
    "        array[index, i * rozmiar + j+1] = 1 #ustawienie na 1"
   ]
  },
  {
   "metadata": {},
   "cell_type": "markdown",
   "source": "funkcja wyliczenie od prawej"
  },
  {
   "metadata": {},
   "cell_type": "code",
   "outputs": [],
   "execution_count": null,
   "source": [
    "def wyliczPrawo(array, arrayWynik, i, j, index):\n",
    "    #sprawdzenie czy j jest na prawej granicy\n",
    "    if j == 0:\n",
    "        arrayWynik[index] += tempPrawo #dodanie wartosci do odpowiedniego elementu vektora\n",
    "    else:\n",
    "        array[index, i * rozmiar + j-1] = 1"
   ]
  },
  {
   "metadata": {},
   "cell_type": "markdown",
   "source": "funkcja wyliczajaca glowne rownania"
  },
  {
   "metadata": {},
   "cell_type": "code",
   "outputs": [],
   "execution_count": null,
   "source": [
    "def wylicz(array, arrayWynik):\n",
    "    index = 0\n",
    "    for i in range(rozmiar):\n",
    "        for j in range(rozmiar):\n",
    "            wyliczGora(array,arrayWynik,i,j,index)\n",
    "            wyliczDol(array,arrayWynik,i,j,index)\n",
    "            wyliczLewo(array,arrayWynik,i,j,index)\n",
    "            wyliczPrawo(array,arrayWynik,i,j,index)\n",
    "            #ustawienie wartosci elementu na -4, na przekatnej, dla tych granic, taka powinna byc przekatna\n",
    "            array[index,index] = -4\n",
    "            index += 1"
   ]
  },
  {
   "metadata": {},
   "cell_type": "markdown",
   "source": "obliczanie gaussem maciezy  i vektora wynikowego"
  },
  {
   "metadata": {},
   "cell_type": "code",
   "outputs": [],
   "execution_count": null,
   "source": [
    "def rozwiaz(array, arrayWynik):\n",
    "    dlugoscA = len(array)\n",
    "    for i in range(rozmiar):\n"
   ]
  }
 ],
 "metadata": {
  "kernelspec": {
   "display_name": "base",
   "language": "python",
   "name": "python3"
  },
  "language_info": {
   "codemirror_mode": {
    "name": "ipython",
    "version": 3
   },
   "file_extension": ".py",
   "mimetype": "text/x-python",
   "name": "python",
   "nbconvert_exporter": "python",
   "pygments_lexer": "ipython3",
   "version": "3.12.4"
  }
 },
 "nbformat": 4,
 "nbformat_minor": 2
}
