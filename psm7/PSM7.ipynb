{
 "cells": [
  {
   "metadata": {},
   "cell_type": "markdown",
   "source": "Importy i stałe",
   "id": "befdf6a0a93b168f"
  },
  {
   "metadata": {
    "ExecuteTime": {
     "end_time": "2025-04-23T08:20:41.438970Z",
     "start_time": "2025-04-23T08:20:41.434536Z"
    }
   },
   "cell_type": "code",
   "source": [
    "import numpy as np\n",
    "import matplotlib.pyplot as plt\n",
    "\n",
    "rozmiar = 40\n",
    "gora = -100\n",
    "lewo = 200\n",
    "dol = -50\n",
    "prawo = 100\n",
    "\n",
    "# Macierz kwadratowa wypełniona 0\n",
    "matrix = np.zeros((rozmiar **2, rozmiar **2))\n",
    "# Wektor wypełniony 0\n",
    "vector = np.zeros(rozmiar**2)\n"
   ],
   "id": "d6788c7f83e2f9cc",
   "outputs": [],
   "execution_count": 132
  },
  {
   "metadata": {},
   "cell_type": "markdown",
   "source": [
    "wyliczanie maciezy, np T(1,1) itd ile razy konkretny element sie powrotzyl, to co na zajeciach,\n",
    "\n",
    "pierwsza czesc, wypenienie maciezy"
   ],
   "id": "278ef1fe2f86d33a"
  },
  {
   "metadata": {
    "ExecuteTime": {
     "end_time": "2025-04-23T08:20:41.450655Z",
     "start_time": "2025-04-23T08:20:41.444476Z"
    }
   },
   "cell_type": "code",
   "source": [
    "def wylicz():\n",
    "    # Counter\n",
    "    index = 0\n",
    "    for i in range(rozmiar):\n",
    "        #dla kazdego punktu, uklad rownan od sasiadow (gornego, dolnego, lewego i prawego)\n",
    "        for j in range(rozmiar):\n",
    "            # ----------------- warunki brzegowe -----------------\n",
    "            # Wylicz górną granicę\n",
    "            if i == rozmiar - 1:\n",
    "                # Dodaj górną wartość do odpowiedniego elementu wektora\n",
    "                vector[index] += gora\n",
    "            else:\n",
    "                # Ustaw na 1, dla polaczenia\n",
    "                matrix[index, (i + 1) * rozmiar + j] = 1\n",
    "\n",
    "            # Wylicz dolną granicę\n",
    "                # Jeżeli i jest na dolnej granicy\n",
    "            if i == 0:\n",
    "            # Dodaj dolna wartość do odpowiedniego elementu wektora\n",
    "                vector[index] += dol\n",
    "            else:\n",
    "                # Ustaw na 1, dla polaczenia\n",
    "                matrix[index, (i - 1) * rozmiar + j] = 1\n",
    "\n",
    "            # Wylicz lewa granicę\n",
    "            # Jeżeli j jest na lewa granicy\n",
    "            if j == 0:\n",
    "                # Dodaj lewa wartość do odpowiedniego elementu wektora\n",
    "                vector[index] += prawo\n",
    "            else:\n",
    "                # Ustaw na 1, dla polaczenia\n",
    "                matrix[index, i * rozmiar + j - 1] = 1\n",
    "\n",
    "            # Wylicz prawa granicę\n",
    "                # Jeżeli j jest na prawej granicy\n",
    "            if j == rozmiar - 1:\n",
    "                # Dodaj prawa wartość do odpowiedniego elementu wektora\n",
    "                vector[index] += lewo\n",
    "            else:\n",
    "                # Ustaw na 1, dla polaczenia\n",
    "                matrix[index, i * rozmiar + j + 1] = 1\n",
    "\n",
    "            # -------------------- przekatna -----------------------\n",
    "            # Ustawiamy wartość elementu przekatnego na -4, wg operatora LaPlace'a dla siatki 2D\n",
    "            matrix[index, index] = -4\n",
    "            index += 1\n",
    "\n",
    "    return matrix, vector"
   ],
   "id": "7bcccdffcd30b486",
   "outputs": [],
   "execution_count": 133
  },
  {
   "metadata": {},
   "cell_type": "markdown",
   "source": "rozwiazanie maciezy i vektora wyniku przez gaussa",
   "id": "e0e92fdb99ebd203"
  },
  {
   "metadata": {
    "ExecuteTime": {
     "end_time": "2025-04-23T08:20:41.477907Z",
     "start_time": "2025-04-23T08:20:41.471666Z"
    }
   },
   "cell_type": "code",
   "source": [
    "def rozwiazGaussem(A, B): #elimicaja gaussa z czesciowym wyborem elementu glownego, uklad rownan: A*x=B\n",
    "    #A -> kwadratowa maciez wspolczynnikow\n",
    "    #b -> vektor wyrazow wolnych\n",
    "    #x -> vektor niewiadomych\n",
    "    n = len(A)\n",
    "    #eliminacja gaussa\n",
    "    for p in range(n):\n",
    "        max_index = np.argmax(np.abs(A[p:, p])) + p #wybor najwiekszego elementu w kolumnie\n",
    "        #zamiana wierszy, tak aby najwiekszy byl zawsze na przekatnej\n",
    "        A[[p, max_index]] = A[[max_index, p]]\n",
    "        B[p], B[max_index] = B[max_index], B[p]\n",
    "\n",
    "        if abs(A[p, p]) <= 1e-10:\n",
    "            raise RuntimeError(\"Macierz jest jednostkowa, albo prawie jednostkowa\") #warunek, jesli przekatna okaze sie byc zbyt bliska zeru,\n",
    "            #przeciw osobliwej maciezy\n",
    "\n",
    "        for i in range(p + 1, n): #eliminacja gaussa ponizej wiersza p\n",
    "            alpha = A[i, p] / A[p, p] #wyliczenie alfa dla ktory wyzeruje element pod przekatna\n",
    "            B[i] -= alpha * B[p] #odjecie przemnozonego wiersza p z wiersza i w obydwu maciezach (A i B)\n",
    "            A[i, p:] -= alpha * A[p, p:]\n",
    "\n",
    "    #zamiana wsteczna (rozwiazanie ukladu, wszystkie pivoty wyznaczone)\n",
    "    x = np.zeros(n)#maciez wynikowa\n",
    "    for i in range(n - 1, -1, -1):\n",
    "        x[i] = (B[i] - np.sum(A[i, i + 1:] * x[i + 1:])) / A[i, i] #odjecie znanych skladnikow i podzieleenie przez wspolczynnik przy niewiadomej\n",
    "\n",
    "    return x"
   ],
   "id": "a81296d97799f698",
   "outputs": [],
   "execution_count": 134
  },
  {
   "metadata": {},
   "cell_type": "markdown",
   "source": "wywolanie funkcji i rozwiazanie maciezy",
   "id": "4a52b2c1ac24a5e6"
  },
  {
   "metadata": {
    "ExecuteTime": {
     "end_time": "2025-04-23T08:20:46.207702Z",
     "start_time": "2025-04-23T08:20:41.497891Z"
    }
   },
   "cell_type": "code",
   "source": [
    "wyliczonaMaciez, wyliczonyVektor = wylicz()\n",
    "\n",
    "answer = rozwiazGaussem(wyliczonaMaciez,wyliczonyVektor)\n",
    "\n",
    "answer_matrix = answer.reshape(rozmiar, rozmiar)\n",
    "\n",
    "# Wypisanie wyników na konsoli\n",
    "for i in range(39, -1, -1):\n",
    "    for j in range(39, -1, -1):\n",
    "        print(f\"{answer[40 * i + j]:.2f}\", end=\" \")\n",
    "    print()\n"
   ],
   "id": "54e6f9685efe3ba0",
   "outputs": [
    {
     "name": "stdout",
     "output_type": "stream",
     "text": [
      "-49.97 9.36 37.28 52.57 62.00 68.34 72.88 76.28 78.92 81.01 82.71 84.10 85.25 86.21 87.02 87.68 88.23 88.68 89.03 89.30 89.48 89.59 89.61 89.55 89.41 89.17 88.84 88.38 87.78 87.02 86.04 84.79 83.18 81.05 78.16 74.06 67.90 57.82 39.33 -0.10 \n",
      "-109.23 -49.87 -12.83 11.00 27.09 38.48 46.90 53.33 58.38 62.42 65.72 68.44 70.70 72.59 74.17 75.48 76.57 77.45 78.15 78.68 79.05 79.26 79.31 79.20 78.92 78.45 77.79 76.89 75.73 74.25 72.36 69.96 66.88 62.86 57.52 50.18 39.70 24.06 -0.39 -39.72 \n",
      "-137.08 -86.78 -49.71 -22.83 -3.14 11.60 22.90 31.76 38.83 44.58 49.31 53.23 56.52 59.27 61.58 63.51 65.11 66.41 67.45 68.23 68.77 69.08 69.16 69.01 68.60 67.93 66.97 65.68 64.01 61.88 59.19 55.80 51.51 46.01 38.87 29.43 16.67 -0.88 -25.24 -58.41 \n",
      "-152.31 -110.48 -76.39 -49.48 -28.41 -11.83 1.35 11.97 20.62 27.76 33.70 38.67 42.86 46.39 49.37 51.87 53.95 55.64 56.99 58.01 58.73 59.14 59.25 59.06 58.55 57.70 56.48 54.85 52.74 50.06 46.72 42.54 37.34 30.80 22.53 11.99 -1.56 -19.02 -41.26 -68.68 \n",
      "-161.67 -126.43 -95.89 -70.29 -49.19 -31.87 -17.63 -5.86 3.93 12.14 19.05 24.90 29.86 34.08 37.65 40.65 43.16 45.22 46.85 48.10 48.98 49.50 49.65 49.44 48.85 47.85 46.41 44.49 42.03 38.92 35.07 30.33 24.49 17.32 8.47 -2.44 -15.90 -32.36 -52.13 -75.03 \n",
      "-167.95 -137.70 -110.43 -86.61 -66.18 -48.83 -34.15 -21.72 -11.17 -2.20 5.46 12.01 17.61 22.40 26.48 29.94 32.83 35.21 37.11 38.57 39.60 40.21 40.41 40.19 39.54 38.43 36.83 34.69 31.95 28.53 24.32 19.20 13.00 5.50 -3.51 -14.33 -27.22 -42.39 -59.86 -79.33 \n",
      "-172.42 -145.99 -121.54 -99.53 -80.09 -63.12 -48.41 -35.69 -24.70 -15.21 -7.02 0.06 6.18 11.44 15.95 19.78 23.01 25.67 27.81 29.46 30.64 31.35 31.60 31.38 30.69 29.50 27.78 25.48 22.55 18.92 14.49 9.16 2.78 -4.78 -13.70 -24.15 -36.27 -50.12 -65.60 -82.42 \n",
      "-175.76 -152.28 -130.19 -109.88 -91.53 -75.16 -60.67 -47.92 -36.73 -26.94 -18.38 -10.91 -4.41 1.23 6.08 10.24 13.75 16.66 19.01 20.83 22.13 22.94 23.24 23.05 22.34 21.11 19.31 16.91 13.86 10.11 5.56 0.15 -6.24 -13.71 -22.37 -32.31 -43.59 -56.20 -70.01 -84.75 \n",
      "-178.33 -157.20 -137.07 -118.28 -101.00 -85.32 -71.20 -58.59 -47.37 -37.43 -28.65 -20.91 -14.13 -8.21 -3.07 1.34 5.09 8.21 10.74 12.71 14.13 15.03 15.39 15.23 14.53 13.27 11.43 8.99 5.88 2.08 -2.49 -7.88 -14.18 -21.44 -29.74 -39.12 -49.59 -61.08 -73.48 -86.56 \n",
      "-180.36 -161.11 -142.62 -125.15 -108.88 -93.90 -80.24 -67.87 -56.73 -46.76 -37.87 -29.97 -22.99 -16.86 -11.51 -6.89 -2.95 0.34 3.03 5.13 6.67 7.64 8.07 7.95 7.27 6.02 4.17 1.71 -1.39 -5.19 -9.72 -15.02 -21.15 -28.15 -36.04 -44.85 -54.55 -65.07 -76.28 -88.00 \n",
      "-181.99 -164.28 -147.15 -130.82 -115.46 -101.16 -87.97 -75.91 -64.94 -55.01 -46.09 -38.11 -31.00 -24.73 -19.22 -14.44 -10.35 -6.91 -4.09 -1.88 -0.25 0.81 1.30 1.22 0.58 -0.65 -2.47 -4.91 -7.98 -11.73 -16.16 -21.33 -27.25 -33.95 -41.43 -49.69 -58.69 -68.35 -78.57 -89.18 \n",
      "-183.31 -166.86 -150.87 -135.53 -120.97 -107.31 -94.59 -82.85 -72.09 -62.27 -53.38 -45.36 -38.19 -31.82 -26.20 -21.30 -17.09 -13.54 -10.61 -8.30 -6.59 -5.46 -4.91 -4.93 -5.53 -6.72 -8.50 -10.89 -13.91 -17.56 -21.88 -26.88 -32.57 -38.96 -46.05 -53.80 -62.17 -71.09 -80.46 -90.15 \n",
      "-184.40 -168.99 -153.95 -139.45 -125.60 -112.51 -100.24 -88.83 -78.28 -68.60 -59.78 -51.78 -44.58 -38.15 -32.46 -27.48 -23.18 -19.53 -16.52 -14.13 -12.34 -11.15 -10.53 -10.51 -11.06 -12.20 -13.92 -16.25 -19.19 -22.74 -26.93 -31.74 -37.20 -43.29 -49.99 -57.28 -65.09 -73.38 -82.03 -90.95 \n",
      "-185.29 -170.74 -156.50 -142.70 -129.47 -116.89 -105.03 -93.93 -83.61 -74.09 -65.35 -57.40 -50.20 -43.75 -38.02 -32.97 -28.61 -24.89 -21.82 -19.36 -17.50 -16.25 -15.58 -15.50 -16.00 -17.08 -18.75 -21.00 -23.85 -27.29 -31.33 -35.97 -41.19 -47.00 -53.35 -60.22 -67.56 -75.29 -83.34 -91.62 \n",
      "-186.02 -172.17 -158.59 -145.40 -132.69 -120.56 -109.06 -98.25 -88.15 -78.78 -70.15 -62.25 -55.09 -48.63 -42.87 -37.80 -33.38 -29.62 -26.49 -23.98 -22.07 -20.76 -20.04 -19.91 -20.36 -21.38 -22.98 -25.16 -27.91 -31.24 -35.14 -39.60 -44.61 -50.15 -56.20 -62.70 -69.62 -76.89 -84.43 -92.17 \n",
      "-186.61 -173.34 -160.31 -147.61 -135.34 -123.59 -112.41 -101.85 -91.95 -82.74 -74.21 -66.38 -59.25 -52.81 -47.05 -41.95 -37.51 -33.71 -30.54 -27.99 -26.04 -24.69 -23.92 -23.74 -24.14 -25.10 -26.64 -28.74 -31.41 -34.62 -38.39 -42.69 -47.50 -52.81 -58.58 -64.77 -71.34 -78.21 -85.33 -92.62 \n",
      "-187.09 -174.28 -161.68 -149.39 -137.48 -126.05 -115.13 -104.80 -95.08 -86.00 -77.57 -69.82 -62.73 -56.31 -50.56 -45.46 -41.00 -37.18 -33.98 -31.39 -29.41 -28.02 -27.22 -26.99 -27.34 -28.26 -29.73 -31.76 -34.34 -37.46 -41.10 -45.25 -49.90 -55.00 -60.54 -66.47 -72.74 -79.29 -86.07 -93.00 \n",
      "-187.45 -175.01 -162.75 -150.77 -139.16 -127.97 -117.28 -107.13 -97.56 -88.60 -80.27 -72.58 -65.54 -59.15 -53.41 -48.32 -43.86 -40.02 -36.81 -34.20 -32.19 -30.77 -29.93 -29.67 -29.98 -30.85 -32.27 -34.24 -36.74 -39.77 -43.30 -47.33 -51.83 -56.77 -62.11 -67.82 -73.85 -80.15 -86.65 -93.29 \n",
      "-187.73 -175.54 -163.54 -151.80 -140.40 -129.41 -118.89 -108.88 -99.43 -90.57 -82.32 -74.70 -67.70 -61.35 -55.63 -50.54 -46.08 -42.25 -39.02 -36.40 -34.37 -32.94 -32.08 -31.79 -32.06 -32.89 -34.27 -36.18 -38.62 -41.57 -45.02 -48.94 -53.32 -58.12 -63.31 -68.86 -74.70 -80.80 -87.09 -93.51 \n",
      "-187.91 -175.90 -164.07 -152.49 -141.24 -130.38 -119.98 -110.08 -100.72 -91.94 -83.75 -76.18 -69.22 -62.90 -57.21 -52.14 -47.69 -43.86 -40.63 -38.01 -35.97 -34.52 -33.65 -33.34 -33.59 -34.38 -35.72 -37.59 -39.98 -42.87 -46.25 -50.10 -54.39 -59.09 -64.17 -69.59 -75.30 -81.26 -87.40 -93.67 \n",
      "-188.00 -176.08 -164.34 -152.84 -141.67 -130.90 -120.56 -110.73 -101.43 -92.70 -84.56 -77.03 -70.12 -63.83 -58.16 -53.11 -48.68 -44.86 -41.65 -39.03 -36.99 -35.54 -34.65 -34.33 -34.56 -35.34 -36.65 -38.49 -40.84 -43.69 -47.02 -50.81 -55.04 -59.67 -64.68 -70.03 -75.66 -81.53 -87.58 -93.76 \n",
      "-188.00 -176.09 -164.36 -152.88 -141.72 -130.96 -120.65 -110.85 -101.58 -92.88 -84.77 -77.27 -70.39 -64.13 -58.49 -53.47 -49.06 -45.26 -42.06 -39.46 -37.43 -35.98 -35.09 -34.77 -34.99 -35.75 -37.05 -38.87 -41.19 -44.02 -47.32 -51.08 -55.28 -59.89 -64.87 -70.18 -75.78 -81.62 -87.64 -93.79 \n",
      "-187.92 -175.93 -164.13 -152.58 -141.38 -130.58 -120.24 -110.42 -101.15 -92.46 -84.37 -76.90 -70.04 -63.81 -58.20 -53.21 -48.84 -45.07 -41.89 -39.30 -37.29 -35.85 -34.98 -34.66 -34.88 -35.64 -36.93 -38.74 -41.06 -43.87 -47.17 -50.93 -55.12 -59.73 -64.71 -70.04 -75.66 -81.52 -87.57 -93.75 \n",
      "-187.75 -175.59 -163.63 -151.95 -140.62 -129.73 -119.32 -109.45 -100.15 -91.45 -83.36 -75.90 -69.07 -62.87 -57.30 -52.35 -48.01 -44.27 -41.13 -38.57 -36.59 -35.17 -34.31 -34.00 -34.23 -35.00 -36.29 -38.10 -40.42 -43.25 -46.55 -50.33 -54.55 -59.19 -64.22 -69.61 -75.30 -81.24 -87.38 -93.66 \n",
      "-187.48 -175.06 -162.85 -150.95 -139.44 -128.39 -117.87 -107.91 -98.55 -89.81 -81.72 -74.27 -67.46 -61.30 -55.77 -50.86 -46.57 -42.88 -39.78 -37.26 -35.31 -33.93 -33.09 -32.80 -33.05 -33.82 -35.13 -36.95 -39.29 -42.13 -45.47 -49.28 -53.55 -58.26 -63.38 -68.87 -74.68 -80.76 -87.05 -93.49 \n",
      "-187.10 -174.32 -161.77 -149.57 -137.80 -126.53 -115.84 -105.76 -96.32 -87.54 -79.43 -71.99 -65.22 -59.10 -53.62 -48.77 -44.54 -40.90 -37.86 -35.39 -33.48 -32.13 -31.33 -31.06 -31.33 -32.13 -33.45 -35.29 -37.65 -40.53 -43.90 -47.78 -52.12 -56.93 -62.17 -67.80 -73.79 -80.07 -86.58 -93.25 \n",
      "-186.60 -173.34 -160.35 -147.75 -135.64 -124.11 -113.20 -102.97 -93.43 -84.60 -76.48 -69.06 -62.32 -56.25 -50.84 -46.06 -41.90 -38.34 -35.36 -32.95 -31.09 -29.79 -29.02 -28.79 -29.08 -29.90 -31.25 -33.12 -35.51 -38.42 -41.85 -45.79 -50.24 -55.17 -60.56 -66.39 -72.60 -79.14 -85.94 -92.93 \n",
      "-185.96 -172.08 -158.53 -145.44 -132.92 -121.05 -109.89 -99.49 -89.84 -80.96 -72.83 -65.43 -58.75 -52.75 -47.42 -42.73 -38.66 -35.18 -32.29 -29.95 -28.16 -26.91 -26.19 -25.99 -26.31 -27.16 -28.53 -30.42 -32.84 -35.79 -39.28 -43.30 -47.86 -52.94 -58.53 -64.59 -71.09 -77.96 -85.13 -92.51 \n",
      "-185.15 -170.51 -156.26 -142.56 -129.54 -117.28 -105.84 -95.24 -85.48 -76.56 -68.44 -61.09 -54.49 -48.59 -43.37 -38.79 -34.83 -31.46 -28.65 -26.40 -24.69 -23.50 -22.82 -22.67 -23.02 -23.89 -25.28 -27.19 -29.64 -32.63 -36.17 -40.28 -44.96 -50.21 -56.02 -62.36 -69.20 -76.48 -84.11 -91.99 \n",
      "-184.14 -168.54 -153.43 -139.00 -125.39 -112.69 -100.94 -90.15 -80.30 -71.35 -63.27 -56.01 -49.52 -43.76 -38.67 -34.23 -30.41 -27.16 -24.47 -22.32 -20.69 -19.57 -18.95 -18.83 -19.22 -20.10 -21.50 -23.43 -25.89 -28.91 -32.50 -36.69 -41.49 -46.92 -52.97 -59.63 -66.87 -74.64 -82.83 -91.34 \n",
      "-182.87 -166.08 -149.92 -134.63 -120.34 -107.16 -95.09 -84.12 -74.20 -65.28 -57.29 -50.16 -43.83 -38.24 -33.33 -29.06 -25.40 -22.30 -19.75 -17.71 -16.18 -15.14 -14.58 -14.50 -14.91 -15.80 -17.21 -19.13 -21.59 -24.61 -28.24 -32.49 -37.40 -43.00 -49.30 -56.32 -64.03 -72.37 -81.25 -90.52 \n",
      "-181.27 -162.99 -145.55 -129.24 -114.20 -100.50 -88.13 -77.03 -67.12 -58.29 -50.45 -43.52 -37.40 -32.03 -27.35 -23.29 -19.83 -16.91 -14.51 -12.60 -11.18 -10.22 -9.72 -9.68 -10.11 -11.00 -12.39 -14.28 -16.72 -19.73 -23.35 -27.63 -32.62 -38.37 -44.93 -52.32 -60.55 -69.57 -79.27 -89.50 \n",
      "-179.21 -159.06 -140.07 -122.57 -106.71 -92.52 -79.91 -68.76 -58.94 -50.30 -42.71 -36.05 -30.22 -25.14 -20.73 -16.94 -13.70 -10.99 -8.77 -7.02 -5.71 -4.84 -4.41 -4.40 -4.83 -5.71 -7.06 -8.90 -11.28 -14.22 -17.79 -22.06 -27.08 -32.94 -39.72 -47.49 -56.28 -66.07 -76.78 -88.20 \n",
      "-176.51 -153.97 -133.09 -114.25 -97.56 -82.95 -70.22 -59.17 -49.58 -41.26 -34.03 -27.75 -22.30 -17.58 -13.51 -10.02 -7.06 -4.59 -2.57 -0.98 0.19 0.96 1.34 1.32 0.89 0.05 -1.24 -2.99 -5.26 -8.09 -11.55 -15.72 -20.70 -26.59 -33.53 -41.63 -50.99 -61.67 -73.58 -86.50 \n",
      "-172.86 -147.22 -124.07 -103.79 -86.35 -71.49 -58.85 -48.11 -38.96 -31.12 -24.40 -18.62 -13.65 -9.37 -5.70 -2.57 0.08 2.27 4.06 5.46 6.49 7.17 7.48 7.44 7.04 6.25 5.06 3.43 1.32 -1.33 -4.60 -8.58 -13.40 -19.20 -26.17 -34.50 -44.40 -56.02 -69.38 -84.24 \n",
      "-167.70 -137.98 -112.17 -90.49 -72.56 -57.79 -45.60 -35.47 -27.01 -19.88 -13.83 -8.69 -4.30 -0.55 2.65 5.37 7.65 9.55 11.08 12.28 13.16 13.72 13.98 13.93 13.56 12.85 11.79 10.33 8.44 6.04 3.06 -0.61 -5.12 -10.65 -17.45 -25.81 -36.09 -48.64 -63.67 -81.06 \n",
      "-159.97 -124.83 -96.14 -73.44 -55.60 -41.52 -30.28 -21.18 -13.72 -7.54 -2.37 1.99 5.69 8.82 11.48 13.73 15.62 17.18 18.44 19.42 20.13 20.59 20.79 20.74 20.42 19.82 18.91 17.67 16.06 14.00 11.42 8.20 4.19 -0.83 -7.16 -15.21 -25.52 -38.77 -55.62 -76.34 \n",
      "-147.35 -105.23 -74.12 -51.52 -34.90 -22.42 -12.81 -5.24 0.84 5.80 9.91 13.34 16.23 18.67 20.73 22.46 23.91 25.11 26.08 26.82 27.37 27.71 27.86 27.81 27.56 27.08 26.37 25.39 24.11 22.48 20.41 17.80 14.51 10.30 4.85 -2.34 -12.01 -25.29 -43.68 -68.68 \n",
      "-124.22 -74.61 -43.60 -23.61 -10.07 -0.44 6.71 12.19 16.52 20.00 22.86 25.24 27.22 28.89 30.30 31.48 32.46 33.27 33.93 34.43 34.80 35.03 35.13 35.09 34.91 34.58 34.09 33.42 32.53 31.39 29.94 28.10 25.74 22.67 18.60 13.02 5.09 -6.71 -25.13 -54.71 \n",
      "-74.90 -25.39 -2.06 10.75 18.68 24.03 27.88 30.77 33.03 34.84 36.30 37.52 38.53 39.38 40.09 40.69 41.19 41.60 41.93 42.18 42.37 42.48 42.53 42.51 42.42 42.25 42.00 41.65 41.20 40.61 39.87 38.91 37.67 36.05 33.85 30.74 26.08 18.49 4.58 -25.03 \n"
     ]
    }
   ],
   "execution_count": 135
  },
  {
   "metadata": {},
   "cell_type": "markdown",
   "source": "wyrysowanie heatMapy",
   "id": "6b0436b48fffdce7"
  },
  {
   "metadata": {
    "ExecuteTime": {
     "end_time": "2025-04-23T08:25:06.479218Z",
     "start_time": "2025-04-23T08:25:06.266869Z"
    }
   },
   "cell_type": "code",
   "source": [
    "# Heatmapa\n",
    "plt.imshow(answer_matrix, cmap='jet', origin='lower')\n",
    "plt.colorbar(label='Wartosci')\n",
    "plt.title('Heatmap')\n",
    "plt.xlabel('Lewo -> 200, Prawo -> 100')\n",
    "plt.ylabel('Gora -> -100, Dol -> -50')\n",
    "plt.show()"
   ],
   "id": "34ee98b4a3b5fade",
   "outputs": [
    {
     "data": {
      "text/plain": [
       "<Figure size 640x480 with 2 Axes>"
      ],
      "image/png": "[encoded data removed]"
     },
     "metadata": {},
     "output_type": "display_data"
    }
   ],
   "execution_count": 139
  }
 ],
 "metadata": {
  "kernelspec": {
   "name": "python3",
   "language": "python",
   "display_name": "Python 3 (ipykernel)"
  }
 },
 "nbformat": 5,
 "nbformat_minor": 9
}
